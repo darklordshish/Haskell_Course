{
 "cells": [
  {
   "cell_type": "markdown",
   "metadata": {},
   "source": [
    "## Лекция 5\n",
    "\n",
    "### Основные понятия теории категорий ч.2\n",
    "- #### Виды морфизмов\n",
    "    - Мономорфизм и Эпиморфизм \n",
    "    - Кореракция и Ретракция \n",
    "    - Изоморфизм \n",
    "- #### Пределы функторов \n",
    "- #### Копределы функторов\n",
    "- #### Примеры, двойственность.\n",
    "    - Начальный и Терминальный объект; нулевой объект\n",
    "    - Произведение и Копроизведение \n",
    "    - Обратный образ и Амальгама \n",
    "        - ядро и коядро\n",
    "    - Уравнитель и Коуравнитель "
   ]
  },
  {
   "cell_type": "code",
   "execution_count": null,
   "metadata": {
    "collapsed": true
   },
   "outputs": [],
   "source": []
  }
 ],
 "metadata": {
  "kernelspec": {
   "display_name": "Haskell",
   "language": "haskell",
   "name": "haskell"
  },
  "language_info": {
   "codemirror_mode": "ihaskell",
   "file_extension": ".hs",
   "name": "haskell",
   "pygments_lexer": "Haskell",
   "version": "8.6.5"
  }
 },
 "nbformat": 4,
 "nbformat_minor": 2
}
