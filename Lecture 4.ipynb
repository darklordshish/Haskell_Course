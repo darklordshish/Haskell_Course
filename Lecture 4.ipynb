{
 "cells": [
  {
   "cell_type": "markdown",
   "metadata": {},
   "source": [
    "## Лекция 4\n",
    "\n",
    "### Основные понятия теории категорий \n",
    "\n",
    "- #### Категория\n",
    "    - Примеры\n",
    "- #### Функтор \n",
    "    - Ковариантный функтор\n",
    "        - Примеры\n",
    "    - Контравариантный функтор\n",
    "        - Примеры\n",
    "- #### Естественное преобразование \n",
    "    - Примеры"
   ]
  },
  {
   "cell_type": "code",
   "execution_count": null,
   "metadata": {
    "collapsed": true
   },
   "outputs": [],
   "source": []
  }
 ],
 "metadata": {
  "kernelspec": {
   "display_name": "Haskell",
   "language": "haskell",
   "name": "haskell"
  },
  "language_info": {
   "codemirror_mode": "ihaskell",
   "file_extension": ".hs",
   "name": "haskell",
   "pygments_lexer": "Haskell",
   "version": "8.6.5"
  }
 },
 "nbformat": 4,
 "nbformat_minor": 2
}
