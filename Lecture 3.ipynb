{
 "cells": [
  {
   "cell_type": "markdown",
   "metadata": {},
   "source": [
    "# Лекция 3\n",
    "\n",
    "### Импортирование Модулей\n",
    "\n",
    "\n",
    "### Основные рабочие конструкции в Haskell\n",
    "\n",
    "- Сопоставление шаблонов\n",
    "- Гварды\n",
    "- Where\n",
    "- Let .. in \n",
    "- Case\n",
    "- Рекурсия \n",
    "- Функции высшего порядка\n",
    "    - lambda функции\n",
    "    - map\n",
    "    - filter\n",
    "    - foldr/foldl\n",
    "    - композиция функций\n",
    "    \n",
    "### Типы и Классы типов\n",
    "- data \n",
    "- newtype\n",
    "- type\n"
   ]
  },
  {
   "cell_type": "markdown",
   "metadata": {
    "collapsed": true
   },
   "source": [
    "### Импортирование Модулей"
   ]
  },
  {
   "cell_type": "code",
   "execution_count": 42,
   "metadata": {
    "collapsed": true
   },
   "outputs": [],
   "source": [
    "-- Импортирование Модулей\n",
    "import Data.List  -- простой импорт, в области видимости появляются все экспортируемые модулем элементы\n",
    "\n",
    "import qualified Data.String as S -- импорт с именованием, к элементам в модуле можно теперь обращаться через . \n",
    "                                  -- , например S.words - обращение к функции words в модуле Data.String\n",
    "                                  \n",
    "import Data.Text ( unpack  -- импорт из модуля только указанных функций\n",
    "                 , pack)\n",
    "                 \n",
    "import Data.Char hiding (isNumber) -- импортирование всех элементов из модуля. кроме перечисленных в скобках\n",
    ":set -XRankNTypes"
   ]
  },
  {
   "cell_type": "markdown",
   "metadata": {
    "collapsed": true
   },
   "source": [
    "### Основные рабочие конструкции в Haskell\n",
    "Так как в Haskell нет циклов и переменных, для создания функций приходится использовать альтернативные конструкции\n",
    "\n",
    "\n",
    "#### Сопоставление шаблонов\n",
    "При определении функций можно определить разные тела функций для различных примеров входов"
   ]
  },
  {
   "cell_type": "code",
   "execution_count": 43,
   "metadata": {
    "collapsed": true
   },
   "outputs": [],
   "source": [
    "sayNumber :: forall a.Integral a => a -> String \n",
    "sayNumber 1 = \"One!\"       -- при вычислении значния функции сработает первое \n",
    "sayNumber 2 = \"Two!\"       -- тело функции, для которого совпадёт патерн входного значния \n",
    "sayNumber 3 = \"Three!\"     -- таким образом, \n",
    "sayNumber x = \"A lot of!\"  -- наиболее общий шаблон должен быть в конце."
   ]
  },
  {
   "cell_type": "code",
   "execution_count": 44,
   "metadata": {},
   "outputs": [
    {
     "data": {
      "text/plain": [
       "\"Three!\""
      ]
     },
     "metadata": {},
     "output_type": "display_data"
    },
    {
     "data": {
      "text/plain": [
       "\"A lot of!\""
      ]
     },
     "metadata": {},
     "output_type": "display_data"
    }
   ],
   "source": [
    "sayNumber 3\n",
    "sayNumber 51"
   ]
  },
  {
   "cell_type": "code",
   "execution_count": 45,
   "metadata": {
    "collapsed": true
   },
   "outputs": [],
   "source": [
    "-- data Maybe a = Nothing | Just a --тип-обёртка, имеющий смысл вычислени, которые могут \"сломаться\". \n",
    "maybeHead :: [a] -> Maybe a\n",
    "maybeHead [] = Nothing             -- если  список пустой, то и первого элемента нет, поэтому возвращаем Nothing\n",
    "maybeHead (x:_) = Just x          -- в противном случае, возвращаяем первый элемент списка"
   ]
  },
  {
   "cell_type": "code",
   "execution_count": null,
   "metadata": {},
   "outputs": [],
   "source": [
    "maybeHead []\n",
    "maybeHead [1,2,3]"
   ]
  },
  {
   "cell_type": "code",
   "execution_count": null,
   "metadata": {
    "collapsed": true
   },
   "outputs": [],
   "source": [
    "first :: (a,b) -> a  -- так же сопоставление шаблонов может разбирать кортэжи\n",
    "first (x,_) = x      --  _ обозначается часть шаблона, которая для нас не важна, то что мы собрались откидывать\n",
    "\n",
    "second :: (a,b) -> b\n",
    "second (_,y) = y\n",
    "\n",
    "swap :: (a,b) -> (b,a)  -- реализация функции, меняющей местами элементы пары, выглядит особенно изящно\n",
    "swap (x,y) = (y,x)"
   ]
  },
  {
   "cell_type": "code",
   "execution_count": null,
   "metadata": {},
   "outputs": [],
   "source": [
    "first ('a',1)\n",
    "second ('a',1)\n",
    "swap ('a',1)"
   ]
  },
  {
   "cell_type": "code",
   "execution_count": 1,
   "metadata": {
    "collapsed": true
   },
   "outputs": [],
   "source": [
    "firstLetter :: String -> String\n",
    "firstLetter \"\" = \"Empty string, whoops!\" \n",
    "firstLetter all@(x:xs) = \"The first letter of \" ++ all ++ \" is \" ++ [x] "
   ]
  },
  {
   "cell_type": "code",
   "execution_count": 2,
   "metadata": {},
   "outputs": [
    {
     "data": {
      "text/plain": [
       "\"The first letter of Hello! is H\""
      ]
     },
     "metadata": {},
     "output_type": "display_data"
    }
   ],
   "source": [
    "firstLetter \"Hello!\""
   ]
  },
  {
   "cell_type": "markdown",
   "metadata": {},
   "source": [
    "#### Гварды\n",
    "Чем-то похожи на множественный if.\n",
    "Синтаксически, каждое новое условие пишется после знака |. Условие должно возвращать булево значение, сработает первый из гвардов, в котором условие даст True. Последний гвард пишется без условия, вместо него otherwise, туда сваливаются те значения, проверка которых во всех других гвардах дала False.   "
   ]
  },
  {
   "cell_type": "code",
   "execution_count": 4,
   "metadata": {},
   "outputs": [],
   "source": [
    "max' :: (Ord a) => a -> a -> a  \n",
    "max' a b   \n",
    "    | a > b     = a  \n",
    "    | otherwise = b  \n",
    "    \n",
    "max'' :: (Ord a) => a -> a -> a  \n",
    "max'' a b | a > b = a | otherwise = b -- так же гварды можно записывать в строку, но это менее читаемо"
   ]
  },
  {
   "cell_type": "markdown",
   "metadata": {},
   "source": [
    "#### Where \n",
    "На примере функции расчёта индекса массы тела, расссмотрим как можно использовать гварды и Where"
   ]
  },
  {
   "cell_type": "code",
   "execution_count": 9,
   "metadata": {
    "collapsed": true
   },
   "outputs": [],
   "source": [
    "bmiTell0 :: (RealFloat a) => a -> String  -- самый простой вариант испоьзования гвардов\n",
    "bmiTell0 bmi  \n",
    "    | bmi <= 18.5 = \"You're underweight, you emo, you!\"  \n",
    "    | bmi <= 25.0 = \"You're supposedly normal. Pffft, I bet you're ugly!\"  \n",
    "    | bmi <= 30.0 = \"You're fat! Lose some weight, fatty!\"  \n",
    "    | otherwise   = \"You're a whale, congratulations!\"\n",
    "\n",
    "bmiTell1 :: (RealFloat a) => a -> a -> String  -- в условиях происходят вычисления\n",
    "bmiTell1 weight height  \n",
    "    | weight / height ^ 2 <= 18.5 = \"You're underweight, you emo, you!\"  \n",
    "    | weight / height ^ 2 <= 25.0 = \"You're supposedly normal. Pffft, I bet you're ugly!\"  \n",
    "    | weight / height ^ 2 <= 30.0 = \"You're fat! Lose some weight, fatty!\"  \n",
    "    | otherwise                 = \"You're a whale, congratulations!\"  \n",
    "    \n",
    "bmiTell2 :: (RealFloat a) => a -> a -> String  -- вычисления переобозначины в конструкции Where\n",
    "bmiTell2 weight height  \n",
    "    | bmi <= 18.5 = \"You're underweight, you emo, you!\"  \n",
    "    | bmi <= 25.0 = \"You're supposedly normal. Pffft, I bet you're ugly!\"  \n",
    "    | bmi <= 30.0 = \"You're fat! Lose some weight, fatty!\"  \n",
    "    | otherwise   = \"You're a whale, congratulations!\"  \n",
    "    where bmi = weight / height ^ 2  \n",
    "    \n",
    "bmiTell3 :: (RealFloat a) => a -> a -> String  -- кроме того, в конструкции Where так же \n",
    "bmiTell3 weight height                         -- переобозначены и пороговые значения\n",
    "    | bmi <= skinny = \"You're underweight, you emo, you!\"  \n",
    "    | bmi <= normal = \"You're supposedly normal. Pffft, I bet you're ugly!\"  \n",
    "    | bmi <= fat    = \"You're fat! Lose some weight, fatty!\"  \n",
    "    | otherwise     = \"You're a whale, congratulations!\"  \n",
    "    where bmi = weight / height ^ 2  \n",
    "          skinny = 18.5  \n",
    "          normal = 25.0  \n",
    "          fat = 30.0 \n",
    "          \n",
    "bmiTell4 :: (RealFloat a) => a -> a -> String  \n",
    "bmiTell4 weight height  \n",
    "    | bmi <= skinny = \"You're underweight, you emo, you!\"  \n",
    "    | bmi <= normal = \"You're supposedly normal. Pffft, I bet you're ugly!\"  \n",
    "    | bmi <= fat    = \"You're fat! Lose some weight, fatty!\"  \n",
    "    | otherwise     = \"You're a whale, congratulations!\"            \n",
    "    where bmi = weight / height ^ 2  \n",
    "          (skinny, normal, fat) = (18.5, 25.0, 30.0)  -- пороговые значения переобозначены с помощью \n",
    "                                                      -- синтаксиса сопоставления шаблонов"
   ]
  },
  {
   "cell_type": "code",
   "execution_count": null,
   "metadata": {
    "collapsed": true
   },
   "outputs": [],
   "source": []
  },
  {
   "cell_type": "code",
   "execution_count": 6,
   "metadata": {
    "collapsed": true
   },
   "outputs": [],
   "source": [
    "--ещё один хороший пример сопоставления шаблонов и конструкции Where\n",
    "initials :: String -> String -> String  --  функция возвращает инициалы по имени и фамилии \n",
    "initials firstname lastname = [f] ++ \". \" ++ [l] ++ \".\"  \n",
    "    where (f:_) = firstname  -- вообще говоря, тут синтаксис шаблонов не перекрывает все случаи. \n",
    "          (l:_) = lastname   -- При вызве функции с пустой строкой, возникнет ошибка"
   ]
  },
  {
   "cell_type": "code",
   "execution_count": 7,
   "metadata": {},
   "outputs": [
    {
     "data": {
      "text/plain": [
       "\"S. S.\""
      ]
     },
     "metadata": {},
     "output_type": "display_data"
    }
   ],
   "source": [
    "initials \"Semion\" \"Shishkin\""
   ]
  },
  {
   "cell_type": "code",
   "execution_count": 8,
   "metadata": {},
   "outputs": [
    {
     "ename": "",
     "evalue": "",
     "output_type": "error",
     "traceback": [
      "<interactive>:4:11-26: Non-exhaustive patterns in l : _"
     ]
    }
   ],
   "source": [
    "    initials \"Semion\" \"\""
   ]
  },
  {
   "cell_type": "markdown",
   "metadata": {},
   "source": [
    "#### Let .. in ..\n",
    "похожа на наконструкцию Where, но сначала идёт переобозначение выраения. а потом его использование.\n",
    "Так же let .. in .. свмо является выражением, тогда как Where синтаксическая конструкция."
   ]
  },
  {
   "cell_type": "code",
   "execution_count": 10,
   "metadata": {
    "collapsed": true
   },
   "outputs": [],
   "source": [
    "cylinder :: (RealFloat a) => a -> a -> a  -- функция, сассчитывающая площадь цилиндра \n",
    "cylinder r h = \n",
    "    let sideArea = 2 * pi * r * h  \n",
    "        topArea = pi * r ^2  \n",
    "    in  sideArea + 2 * topArea  "
   ]
  },
  {
   "cell_type": "code",
   "execution_count": 11,
   "metadata": {},
   "outputs": [
    {
     "data": {
      "text/plain": [
       "245.04422698000386"
      ]
     },
     "metadata": {},
     "output_type": "display_data"
    }
   ],
   "source": [
    "cylinder 3 10"
   ]
  },
  {
   "cell_type": "code",
   "execution_count": 13,
   "metadata": {},
   "outputs": [
    {
     "data": {
      "text/plain": [
       "[\"Woo\",\"Bar\"]"
      ]
     },
     "metadata": {},
     "output_type": "display_data"
    },
    {
     "data": {
      "text/plain": [
       "42"
      ]
     },
     "metadata": {},
     "output_type": "display_data"
    },
    {
     "data": {
      "text/plain": [
       "[(25,9,4)]"
      ]
     },
     "metadata": {},
     "output_type": "display_data"
    },
    {
     "data": {
      "text/plain": [
       "(6000000,\"Hey there!\")"
      ]
     },
     "metadata": {},
     "output_type": "display_data"
    }
   ],
   "source": [
    "[if 5 > 3 then \"Woo\" else \"Boo\", if 'a' > 'b' then \"Foo\" else \"Bar\"] -- if - выражение\n",
    "\n",
    "4 * (let a = 9 in a + 1) + 2  -- так же как и let .. in .. \n",
    "\n",
    "[let square x = x * x in (square 5, square 3, square 2)] -- даже так!\n",
    "\n",
    "(let a = 100; b = 200; c = 300 in a*b*c, let foo=\"Hey \"; bar = \"there!\" in foo ++ bar) \n",
    "\n"
   ]
  },
  {
   "cell_type": "markdown",
   "metadata": {},
   "source": [
    "#### Case\n",
    " в общем виде, выглядит так :\n",
    " \n",
    " _**case**_ expression _**of**_ pattern -> result  \n",
    "                                pattern -> result  \n",
    "                                pattern -> result  \n",
    "  ...\n",
    "                   \n",
    "case так же является выражением!\n",
    "вообще говоря, сопоставление шаблонов является синтаксический сахар для case конструкции "
   ]
  },
  {
   "cell_type": "code",
   "execution_count": 14,
   "metadata": {
    "collapsed": true
   },
   "outputs": [],
   "source": [
    "describeList :: [a] -> String  \n",
    "describeList xs = \"The list is \" ++ case xs of [] -> \"empty.\"  \n",
    "                                               [x] -> \"a singleton list.\"   \n",
    "                                               xs -> \"a longer list.\" \n",
    "                                        \n",
    "                                        \n",
    "describeList' :: [a] -> String  -- то же самое, но с Where \n",
    "describeList' xs = \"The list is \" ++ what xs  \n",
    "    where what [] = \"empty.\"  \n",
    "          what [x] = \"a singleton list.\"  \n",
    "          what xs = \"a longer list.\"  "
   ]
  },
  {
   "cell_type": "markdown",
   "metadata": {},
   "source": [
    "#### Рекурсия\n",
    "В программировании рекурсия — вызов функции (процедуры) из неё же самой, непосредственно (простая рекурсия) или через другие функции (сложная или косвенная рекурсия), например, функция **A**￼ вызывает функцию **B**, а функция **B**￼ — функцию **A**. Количество вложенных вызовов функции или процедуры называется глубиной рекурсии. Рекурсивная программа позволяет описать повторяющееся или даже потенциально бесконечное вычисление, причём без явных повторений частей программы и использования циклов.\n",
    "\n",
    "Чтобы рекурсия не была бесконечной, нужно сделать условие выхода из рекурсии!"
   ]
  },
  {
   "cell_type": "code",
   "execution_count": 15,
   "metadata": {
    "collapsed": true
   },
   "outputs": [],
   "source": [
    "factorial :: (Integral a) => a -> a  -- рекурсивная функция, считающая факториял числа\n",
    "factorial 0 = 1                      -- граничное условие выхода из рекурсии\n",
    "factorial n = n * factorial (n - 1)  -- рекурсивная запись. Это так называемая, хвостовая рекурсия\n",
    "\n",
    "length' :: (Num b) => [a] -> b       -- длина списка\n",
    "length' [] = 0                       -- условие выхода\n",
    "length' (_:xs) = 1 + length' xs      -- Хвостовая рекурсия преобразуется в цикл\n",
    "\n",
    "sum' :: (Num a) => [a] -> a          -- сумма спика чисел\n",
    "sum' [] = 0                          -- условие выхода\n",
    "sum' (x:xs) = x + sum' xs            -- рекурсивных выход"
   ]
  },
  {
   "cell_type": "code",
   "execution_count": 16,
   "metadata": {
    "collapsed": true
   },
   "outputs": [],
   "source": [
    "maximum' :: (Ord a) => [a] -> a  -- максимум в списке \n",
    "maximum' [] = error \"maximum of empty list\"  \n",
    "maximum' [x] = x  \n",
    "maximum' (x:xs)   \n",
    "    | x > maxTail = x  \n",
    "    | otherwise = maxTail  \n",
    "    where maxTail = maximum' xs "
   ]
  },
  {
   "cell_type": "code",
   "execution_count": 18,
   "metadata": {},
   "outputs": [],
   "source": [
    "replicate' :: (Num i, Ord i) => i -> a -> [a]  -- эта функция возвращает сисок,\n",
    "replicate' n x  \n",
    "    | n <= 0    = []  \n",
    "    | otherwise = x:replicate' (n-1) x  "
   ]
  },
  {
   "cell_type": "code",
   "execution_count": 20,
   "metadata": {},
   "outputs": [
    {
     "data": {
      "text/plain": [
       "[\"a\",\"a\",\"a\",\"a\"]"
      ]
     },
     "metadata": {},
     "output_type": "display_data"
    }
   ],
   "source": [
    "replicate' 4 \"a\""
   ]
  },
  {
   "cell_type": "code",
   "execution_count": 21,
   "metadata": {
    "collapsed": true
   },
   "outputs": [],
   "source": [
    "repeat' :: a -> [a]       -- эта функция возвращает бесконечный список повторений элемента х\n",
    "repeat' x = x:repeat' x   -- вообще говоря, это корекурсия"
   ]
  },
  {
   "cell_type": "code",
   "execution_count": 22,
   "metadata": {
    "collapsed": true
   },
   "outputs": [],
   "source": [
    "elem' :: (Eq a) => a -> [a] -> Bool  -- функция, говорящая, является ли входное значение элементом списка?\n",
    "elem' a [] = False  \n",
    "elem' a (x:xs)  \n",
    "    | a == x    = True  \n",
    "    | otherwise = a `elem'` xs "
   ]
  },
  {
   "cell_type": "code",
   "execution_count": 27,
   "metadata": {
    "collapsed": true
   },
   "outputs": [],
   "source": [
    "quicksort :: (Ord a) => [a] -> [a]  \n",
    "quicksort [] = []  \n",
    "quicksort (x:xs) =   \n",
    "    let smallerSorted = quicksort [a | a <- xs, a <= x]  \n",
    "        biggerSorted = quicksort [a | a <- xs, a > x]  \n",
    "    in   smallerSorted ++ [x] ++ biggerSorted "
   ]
  },
  {
   "cell_type": "code",
   "execution_count": 28,
   "metadata": {},
   "outputs": [
    {
     "data": {
      "text/plain": [
       "[1,2,2,3,3,4,4,5,6,7,8,9,10]"
      ]
     },
     "metadata": {},
     "output_type": "display_data"
    }
   ],
   "source": [
    "quicksort [10,2,5,3,1,6,7,4,2,3,4,8,9]\n"
   ]
  },
  {
   "cell_type": "markdown",
   "metadata": {},
   "source": [
    "#### Функции высшего порядка \n",
    "Вообще говоря, это функции, кторые принимают в качества аргумента функции и  взвращают функции\n"
   ]
  },
  {
   "cell_type": "code",
   "execution_count": null,
   "metadata": {
    "collapsed": true
   },
   "outputs": [],
   "source": [
    "applyTwice :: (a -> a) -> a -> a  -- например, функция, которая на вход принимает функцию и значение\n",
    "applyTwice f x = f (f x)          -- и возвращает результат приминения функциик знаению два раза\n",
    "\n",
    "applyTwice (++ \" HAHA\") \"HEY\"  \n",
    "\"HEY HAHA HAHA\"\n",
    "\n",
    "flip' :: (a -> b -> c) -> b -> a -> c  -- меняет агрументы функции двух аргументов местами\n",
    "flip' f y x = f x y  "
   ]
  },
  {
   "cell_type": "markdown",
   "metadata": {},
   "source": [
    "##### лямбда-функции \n",
    "Это безымянные,\"быстрые\" функции\n",
    "\\ args -> val"
   ]
  },
  {
   "cell_type": "code",
   "execution_count": 29,
   "metadata": {
    "collapsed": true
   },
   "outputs": [],
   "source": [
    "flip' :: (a -> b -> c) -> b -> a -> c  --тот же пример, но с лямбда-функцией\n",
    "flip' f = \\x y -> f y x "
   ]
  },
  {
   "cell_type": "markdown",
   "metadata": {},
   "source": [
    "##### map \n",
    "map :: (a -> b) -> [a] -> [b]  \n",
    "map _ [] = []  \n",
    "map f (x:xs) = f x : map f xs  \n",
    "\n",
    "применяет функцию ко всем элементам списка и возвращает новый список с результатом\n"
   ]
  },
  {
   "cell_type": "code",
   "execution_count": 30,
   "metadata": {},
   "outputs": [
    {
     "data": {
      "text/plain": [
       "[4,8,6,4,9]"
      ]
     },
     "metadata": {},
     "output_type": "display_data"
    },
    {
     "data": {
      "text/plain": [
       "[\"BIFF!\",\"BANG!\",\"POW!\"]"
      ]
     },
     "metadata": {},
     "output_type": "display_data"
    },
    {
     "data": {
      "text/plain": [
       "[[3,3,3],[4,4,4],[5,5,5],[6,6,6]]"
      ]
     },
     "metadata": {},
     "output_type": "display_data"
    }
   ],
   "source": [
    "map (+3) [1,5,3,1,6] \n",
    "map (++ \"!\") [\"BIFF\", \"BANG\", \"POW\"] \n",
    "map (replicate 3) [3..6]  \n",
    "map (*) [0..]"
   ]
  },
  {
   "cell_type": "markdown",
   "metadata": {},
   "source": [
    "##### filter\n",
    "\n",
    "filter :: (a -> Bool) -> [a] -> [a]  \n",
    "filter _ [] = []  \n",
    "filter p (x:xs)   \n",
    "    | p x       = x : filter p xs  \n",
    "    | otherwise = filter p xs  \n",
    "\n",
    "пробегает по списку и возвращает толко теэлементы, в которых предикат истинный\n"
   ]
  },
  {
   "cell_type": "code",
   "execution_count": 33,
   "metadata": {},
   "outputs": [
    {
     "data": {
      "text/plain": [
       "[5,6,4]"
      ]
     },
     "metadata": {},
     "output_type": "display_data"
    },
    {
     "data": {
      "text/plain": [
       "[3]"
      ]
     },
     "metadata": {},
     "output_type": "display_data"
    },
    {
     "data": {
      "text/plain": [
       "\"uagameasadifeent\""
      ]
     },
     "metadata": {},
     "output_type": "display_data"
    },
    {
     "data": {
      "text/plain": [
       "\"GAYBALLS\""
      ]
     },
     "metadata": {},
     "output_type": "display_data"
    }
   ],
   "source": [
    "filter (>3) [1,5,3,2,1,6,4,3,2,1] \n",
    "filter (==3) [1,2,3,4,5] \n",
    "filter (`elem` ['a'..'z']) \"u LaUgH aT mE BeCaUsE I aM diFfeRent\"  \n",
    "filter (`elem` ['A'..'Z']) \"i lauGh At You BecAuse u r aLL the Same\"  "
   ]
  },
  {
   "cell_type": "code",
   "execution_count": 34,
   "metadata": {
    "collapsed": true
   },
   "outputs": [],
   "source": [
    "quicksort :: (Ord a) => [a] -> [a]    -- реаизация быстрой сортировки с функцией filter\n",
    "quicksort [] = []    \n",
    "quicksort (x:xs) =     \n",
    "    let smallerSorted = quicksort (filter (<=x) xs)  \n",
    "        biggerSorted = quicksort (filter (>x) xs)   \n",
    "    in  smallerSorted ++ [x] ++ biggerSorted"
   ]
  },
  {
   "cell_type": "markdown",
   "metadata": {},
   "source": [
    "#### foldl\n",
    "складывает (или сворачивает) список к одному значению, слева  направо"
   ]
  },
  {
   "cell_type": "code",
   "execution_count": 36,
   "metadata": {},
   "outputs": [
    {
     "data": {
      "text/html": [
       "<style>/* Styles used for the Hoogle display in the pager */\n",
       ".hoogle-doc {\n",
       "display: block;\n",
       "padding-bottom: 1.3em;\n",
       "padding-left: 0.4em;\n",
       "}\n",
       ".hoogle-code {\n",
       "display: block;\n",
       "font-family: monospace;\n",
       "white-space: pre;\n",
       "}\n",
       ".hoogle-text {\n",
       "display: block;\n",
       "}\n",
       ".hoogle-name {\n",
       "color: green;\n",
       "font-weight: bold;\n",
       "}\n",
       ".hoogle-head {\n",
       "font-weight: bold;\n",
       "}\n",
       ".hoogle-sub {\n",
       "display: block;\n",
       "margin-left: 0.4em;\n",
       "}\n",
       ".hoogle-package {\n",
       "font-weight: bold;\n",
       "font-style: italic;\n",
       "}\n",
       ".hoogle-module {\n",
       "font-weight: bold;\n",
       "}\n",
       ".hoogle-class {\n",
       "font-weight: bold;\n",
       "}\n",
       ".get-type {\n",
       "color: green;\n",
       "font-weight: bold;\n",
       "font-family: monospace;\n",
       "display: block;\n",
       "white-space: pre-wrap;\n",
       "}\n",
       ".show-type {\n",
       "color: green;\n",
       "font-weight: bold;\n",
       "font-family: monospace;\n",
       "margin-left: 1em;\n",
       "}\n",
       ".mono {\n",
       "font-family: monospace;\n",
       "display: block;\n",
       "}\n",
       ".err-msg {\n",
       "color: red;\n",
       "font-style: italic;\n",
       "font-family: monospace;\n",
       "white-space: pre;\n",
       "display: block;\n",
       "}\n",
       "#unshowable {\n",
       "color: red;\n",
       "font-weight: bold;\n",
       "}\n",
       ".err-msg.in.collapse {\n",
       "padding-top: 0.7em;\n",
       "}\n",
       ".highlight-code {\n",
       "white-space: pre;\n",
       "font-family: monospace;\n",
       "}\n",
       ".suggestion-warning { \n",
       "font-weight: bold;\n",
       "color: rgb(200, 130, 0);\n",
       "}\n",
       ".suggestion-error { \n",
       "font-weight: bold;\n",
       "color: red;\n",
       "}\n",
       ".suggestion-name {\n",
       "font-weight: bold;\n",
       "}\n",
       "</style><span class='get-type'>foldl :: forall (t :: * -> *) b a. Foldable t => (b -> a -> b) -> b -> t a -> b</span>"
      ],
      "text/plain": [
       "foldl :: forall (t :: * -> *) b a. Foldable t => (b -> a -> b) -> b -> t a -> b"
      ]
     },
     "metadata": {},
     "output_type": "display_data"
    },
    {
     "data": {
      "text/html": [
       "<style>/* Styles used for the Hoogle display in the pager */\n",
       ".hoogle-doc {\n",
       "display: block;\n",
       "padding-bottom: 1.3em;\n",
       "padding-left: 0.4em;\n",
       "}\n",
       ".hoogle-code {\n",
       "display: block;\n",
       "font-family: monospace;\n",
       "white-space: pre;\n",
       "}\n",
       ".hoogle-text {\n",
       "display: block;\n",
       "}\n",
       ".hoogle-name {\n",
       "color: green;\n",
       "font-weight: bold;\n",
       "}\n",
       ".hoogle-head {\n",
       "font-weight: bold;\n",
       "}\n",
       ".hoogle-sub {\n",
       "display: block;\n",
       "margin-left: 0.4em;\n",
       "}\n",
       ".hoogle-package {\n",
       "font-weight: bold;\n",
       "font-style: italic;\n",
       "}\n",
       ".hoogle-module {\n",
       "font-weight: bold;\n",
       "}\n",
       ".hoogle-class {\n",
       "font-weight: bold;\n",
       "}\n",
       ".get-type {\n",
       "color: green;\n",
       "font-weight: bold;\n",
       "font-family: monospace;\n",
       "display: block;\n",
       "white-space: pre-wrap;\n",
       "}\n",
       ".show-type {\n",
       "color: green;\n",
       "font-weight: bold;\n",
       "font-family: monospace;\n",
       "margin-left: 1em;\n",
       "}\n",
       ".mono {\n",
       "font-family: monospace;\n",
       "display: block;\n",
       "}\n",
       ".err-msg {\n",
       "color: red;\n",
       "font-style: italic;\n",
       "font-family: monospace;\n",
       "white-space: pre;\n",
       "display: block;\n",
       "}\n",
       "#unshowable {\n",
       "color: red;\n",
       "font-weight: bold;\n",
       "}\n",
       ".err-msg.in.collapse {\n",
       "padding-top: 0.7em;\n",
       "}\n",
       ".highlight-code {\n",
       "white-space: pre;\n",
       "font-family: monospace;\n",
       "}\n",
       ".suggestion-warning { \n",
       "font-weight: bold;\n",
       "color: rgb(200, 130, 0);\n",
       "}\n",
       ".suggestion-error { \n",
       "font-weight: bold;\n",
       "color: red;\n",
       "}\n",
       ".suggestion-name {\n",
       "font-weight: bold;\n",
       "}\n",
       "</style><span class='get-type'>foldr :: forall (t :: * -> *) a b. Foldable t => (a -> b -> b) -> b -> t a -> b</span>"
      ],
      "text/plain": [
       "foldr :: forall (t :: * -> *) a b. Foldable t => (a -> b -> b) -> b -> t a -> b"
      ]
     },
     "metadata": {},
     "output_type": "display_data"
    }
   ],
   "source": [
    ":t foldl\n",
    ":t foldr"
   ]
  },
  {
   "cell_type": "code",
   "execution_count": 37,
   "metadata": {
    "collapsed": true
   },
   "outputs": [],
   "source": [
    "sum' :: (Num a) => [a] -> a               -- на примере функции, считающей сумму элементов в списке\n",
    "sum' xs = foldl (\\acc x -> acc + x) 0 xs  -- рассмотрим действие foldl.\n",
    " -- в качестве аргументов, она берёт функцию двух аргументов(аккумулятор и непосредственно значение из списка),\n",
    " -- аккумулятор, и список элементов, и возвращает одно значение"
   ]
  },
  {
   "cell_type": "code",
   "execution_count": 38,
   "metadata": {},
   "outputs": [
    {
     "data": {
      "text/plain": [
       "11"
      ]
     },
     "metadata": {},
     "output_type": "display_data"
    }
   ],
   "source": [
    "sum' [3,5,2,1]  "
   ]
  },
  {
   "cell_type": "code",
   "execution_count": 39,
   "metadata": {
    "collapsed": true
   },
   "outputs": [],
   "source": [
    "sum' :: (Num a) => [a] -> a  --можно написать и так, опустив параметры \n",
    "sum' = foldl (+) 0 "
   ]
  },
  {
   "cell_type": "code",
   "execution_count": 40,
   "metadata": {
    "collapsed": true
   },
   "outputs": [],
   "source": [
    "elem' :: (Eq a) => a -> [a] -> Bool  -- а как вам такой вариант функции, ищущей элемент в списке?\n",
    "elem' y ys = foldl (\\acc x -> if x == y then True else acc) False ys "
   ]
  },
  {
   "cell_type": "markdown",
   "metadata": {},
   "source": [
    "#### foldr\n",
    "почти то же, что и foldl, \n",
    "складывает (или сворачивает) список к одному значению, но  справа  налево"
   ]
  },
  {
   "cell_type": "code",
   "execution_count": 41,
   "metadata": {
    "collapsed": true
   },
   "outputs": [],
   "source": [
    "map' :: (a -> b) -> [a] -> [b]                -- например, реализация map через foldr\n",
    "map' f xs = foldr (\\x acc -> f x : acc) [] xs \n",
    "\n",
    "-- map' f xs = foldl (\\acc x -> acc ++ [f x]) [] xs, \n",
    "--- хотя можно было бы сделать и так, но ++ намного дороже, чем :"
   ]
  },
  {
   "cell_type": "code",
   "execution_count": null,
   "metadata": {
    "collapsed": true
   },
   "outputs": [],
   "source": []
  }
 ],
 "metadata": {
  "kernelspec": {
   "display_name": "Haskell",
   "language": "haskell",
   "name": "haskell"
  },
  "language_info": {
   "codemirror_mode": "ihaskell",
   "file_extension": ".hs",
   "name": "haskell",
   "pygments_lexer": "Haskell",
   "version": "8.6.5"
  }
 },
 "nbformat": 4,
 "nbformat_minor": 2
}
