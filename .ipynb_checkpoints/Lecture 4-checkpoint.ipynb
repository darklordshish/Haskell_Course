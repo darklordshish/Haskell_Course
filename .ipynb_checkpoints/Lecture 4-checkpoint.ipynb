{
 "cells": [
  {
   "cell_type": "markdown",
   "metadata": {},
   "source": [
    "## Лекция 4\n",
    "\n",
    "### Основные понятия теории категорий ч.1\n",
    "\n",
    "- #### Категория\n",
    "    - Примеры\n",
    "- #### Функтор \n",
    "    - Ковариантный функтор\n",
    "        - Примеры\n",
    "    - Контравариантный функтор\n",
    "        - Примеры\n",
    "- #### Естественное преобразование \n",
    "    - Примеры  \n"
   ]
  },
  {
   "cell_type": "markdown",
   "metadata": {
    "collapsed": true
   },
   "source": [
    "#### Категория $~\\mathcal{C}$\n",
    "состоит из объектов $Ob_{\\mathcal{C}}$ и морфизмов($Hom_{\\mathcal{C}}(a,b)$ - множество морфизмов между объектами $a$ и $b$ категории $\\mathcal{C}$), причём, \n",
    "- объекты образуют класс, \n",
    "- у каждого морфизма есть начало и конец \n",
    "<img src=\"pic/morf.png\" alt=\"Морфизм\" width=320, height=240>\n",
    "- для любых двух морфизмов, при условии, что кообласть первого совпадает с областью определения второго, есть их композиция, причём композиция ассоциативна\n",
    "<img src=\"pic/composition.png\" alt=\"Морфизм\" width=320, height=240>\n",
    "<img src=\"pic/assoc.png\" alt=\"Морфизм\" width=320, height=240>\n",
    "- для каждого объекта $a$ категории есть единичный морфизм\n",
    "<img src=\"pic/idmorf.png\" alt=\"Морфизм\" width=160, height=120>\n",
    "    причём, для любого морфизма $f:a\\rightarrow b$\n",
    "<img src=\"pic/idcomp.png\" alt=\"Морфизм\" width=320, height=240>\n",
    "\n",
    "Для любой категории $~\\mathcal{C}$  можно  построить двойственную категорию $\\mathcal{C^{op}}$, в которой объекты , что и  в категории $~\\mathcal{C}$, но все морфизмы перевёрнуты.\n",
    "<img src=\"pic/opcat.png\" alt=\"Морфизм\" width=320, height=240>\n",
    "\n",
    "\n",
    "Вообще говоря, не стоит думать об объектах и морфизмах как о множествах и функциях между ними. На самом деле, это абстрактные понятия, сущности общего рода.\n"
   ]
  },
  {
   "cell_type": "markdown",
   "metadata": {},
   "source": [
    "#### Функтор $\\mathit{F}:\\mathcal{C}\\rightarrow \\mathcal{D}$\n",
    " действует из категории $\\mathcal{C}$ в категорию $\\mathcal{D}$, переводя объекты в объекты, морфизмы в морфизмы из категории $\\mathcal{C}$ в категорию $\\mathcal{D}$\n",
    "- единичные морфизмы функтор переводит в единичные морфизмы\n",
    "<img src=\"pic/functid.png\" alt=\"Морфизм\" width=320, height=240>\n",
    "- ковариантный функтор сохраняет направление морфизмов и композицию\n",
    "<img src=\"pic/funct.png\" alt=\"Морфизм\" width=320, height=240>\n",
    "- контравариантный фу нктор обращает концы морфизмов и компазицию\n",
    "<img src=\"pic/functcontr.png\" alt=\"Морфизм\" width=320, height=240>\n",
    "    контравариантный функтор $\\mathit{F}:\\mathcal{C}\\rightarrow \\mathcal{D}$ можно представить как ковариантный функтор, который действует из категории $\\mathcal{C^{op}}$, двойственной к категории $\\mathcal{C}$,"
   ]
  },
  {
   "cell_type": "markdown",
   "metadata": {},
   "source": [
    "#### Естетвенное преобазование $\\tau : \\mathit{F} \\rightarrow \\mathit{G}$\n",
    " действует из функтора $\\mathit{F}:\\mathcal{C}\\rightarrow \\mathcal{D}$ в функтор $\\mathit{G}:\\mathcal{C}\\rightarrow \\mathcal{D}$\n",
    "- каждому объекту $a$ категории $\\mathcal{C}$ ставит в соостветствие морфизм $\\tau_a: \\mathit{F}(a) \\rightarrow \\mathit{G}(a)$ в категории $\\mathcal{D}$. Кроме того, для люго морфизма $f:a\\rightarrow b$ в категории $\\mathcal{C}$ диаграмма коммутативна\n",
    "<img src=\"pic/nat.png\" alt=\"Морфизм\" width=320, height=240>\n",
    "\n",
    "Композицию естественных преобразований можно построить несклькими способами\n",
    "- вертикальная композиция естественных преобразований $\\tau : \\mathit{F} \\rightarrow \\mathit{G}$ и $\\sigma : \\mathit{G} \\rightarrow \\mathit{H}$ для трёх функторов $\\mathit{F},\\mathit{G},\\mathit{H}:\\mathcal{C}\\rightarrow \\mathcal{D}$\n",
    "<img src=\"pic/natvert.png\" alt=\"Морфизм\" width=320, height=240>\n",
    "- горизонтальная композиция естественных преобразований $\\tau : \\mathit{F} \\rightarrow \\mathit{G}$ и $\\sigma : \\mathit{H} \\rightarrow \\mathit{I}$ для четырёх функоров $\\mathit{F},\\mathit{G}:\\mathcal{C}\\rightarrow \\mathcal{D}$ и $\\mathit{H},\\mathit{I}:\\mathcal{D}\\rightarrow \\mathcal{E}$\n",
    "<img src=\"pic/nathoriz.png\" alt=\"Морфизм\" width=320, height=240>"
   ]
  }
 ],
 "metadata": {
  "kernelspec": {
   "display_name": "Haskell",
   "language": "haskell",
   "name": "haskell"
  },
  "language_info": {
   "codemirror_mode": "ihaskell",
   "file_extension": ".hs",
   "name": "haskell",
   "pygments_lexer": "Haskell",
   "version": "8.6.5"
  }
 },
 "nbformat": 4,
 "nbformat_minor": 2
}
