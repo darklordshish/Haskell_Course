{
 "cells": [
  {
   "cell_type": "markdown",
   "metadata": {},
   "source": [
    "## Лекция 6\n",
    "\n",
    "### Категорные конструкции в Haskell, ч.1\n",
    "\n",
    "- #### Категория Hask \n",
    "    - Категория ли?\n",
    "- #### Предельные и копредельные конструкции \n",
    "    -  начальный и конечный объекты \n",
    "    -  произведения и копроизведения \n",
    "- #### Арифмитические аналогия для типов. Полукольцо \n",
    "    - Произведение и Слоение типов\n",
    "    - Cвязь двух моноидов - дистрибутивность \n",
    "    - Полукольцо \n",
    "    \n",
    "- #### Алгебраические типы данных \n"
   ]
  },
  {
   "cell_type": "markdown",
   "metadata": {},
   "source": [
    "#### Категория Hask \n",
    " \n",
    " В Haskell можно построить категорию, в которой объектами  являются типы, а стрелками(морфизмы) - функции. У каждой функции есть область определения(определённого типа)  и бласть значения(которая так же имеет тип).\n",
    "Композиция морфизмов - есть основа теории категорий."
   ]
  },
  {
   "cell_type": "code",
   "execution_count": 101,
   "metadata": {},
   "outputs": [
    {
     "data": {
      "text/html": [
       "<style>/* Styles used for the Hoogle display in the pager */\n",
       ".hoogle-doc {\n",
       "display: block;\n",
       "padding-bottom: 1.3em;\n",
       "padding-left: 0.4em;\n",
       "}\n",
       ".hoogle-code {\n",
       "display: block;\n",
       "font-family: monospace;\n",
       "white-space: pre;\n",
       "}\n",
       ".hoogle-text {\n",
       "display: block;\n",
       "}\n",
       ".hoogle-name {\n",
       "color: green;\n",
       "font-weight: bold;\n",
       "}\n",
       ".hoogle-head {\n",
       "font-weight: bold;\n",
       "}\n",
       ".hoogle-sub {\n",
       "display: block;\n",
       "margin-left: 0.4em;\n",
       "}\n",
       ".hoogle-package {\n",
       "font-weight: bold;\n",
       "font-style: italic;\n",
       "}\n",
       ".hoogle-module {\n",
       "font-weight: bold;\n",
       "}\n",
       ".hoogle-class {\n",
       "font-weight: bold;\n",
       "}\n",
       ".get-type {\n",
       "color: green;\n",
       "font-weight: bold;\n",
       "font-family: monospace;\n",
       "display: block;\n",
       "white-space: pre-wrap;\n",
       "}\n",
       ".show-type {\n",
       "color: green;\n",
       "font-weight: bold;\n",
       "font-family: monospace;\n",
       "margin-left: 1em;\n",
       "}\n",
       ".mono {\n",
       "font-family: monospace;\n",
       "display: block;\n",
       "}\n",
       ".err-msg {\n",
       "color: red;\n",
       "font-style: italic;\n",
       "font-family: monospace;\n",
       "white-space: pre;\n",
       "display: block;\n",
       "}\n",
       "#unshowable {\n",
       "color: red;\n",
       "font-weight: bold;\n",
       "}\n",
       ".err-msg.in.collapse {\n",
       "padding-top: 0.7em;\n",
       "}\n",
       ".highlight-code {\n",
       "white-space: pre;\n",
       "font-family: monospace;\n",
       "}\n",
       ".suggestion-warning { \n",
       "font-weight: bold;\n",
       "color: rgb(200, 130, 0);\n",
       "}\n",
       ".suggestion-error { \n",
       "font-weight: bold;\n",
       "color: red;\n",
       "}\n",
       ".suggestion-name {\n",
       "font-weight: bold;\n",
       "}\n",
       "</style><span class='get-type'>(.) :: forall b c a. (b -> c) -> (a -> b) -> a -> c</span>"
      ],
      "text/plain": [
       "(.) :: forall b c a. (b -> c) -> (a -> b) -> a -> c"
      ]
     },
     "metadata": {},
     "output_type": "display_data"
    },
    {
     "data": {
      "text/html": [
       "<style>/* Styles used for the Hoogle display in the pager */\n",
       ".hoogle-doc {\n",
       "display: block;\n",
       "padding-bottom: 1.3em;\n",
       "padding-left: 0.4em;\n",
       "}\n",
       ".hoogle-code {\n",
       "display: block;\n",
       "font-family: monospace;\n",
       "white-space: pre;\n",
       "}\n",
       ".hoogle-text {\n",
       "display: block;\n",
       "}\n",
       ".hoogle-name {\n",
       "color: green;\n",
       "font-weight: bold;\n",
       "}\n",
       ".hoogle-head {\n",
       "font-weight: bold;\n",
       "}\n",
       ".hoogle-sub {\n",
       "display: block;\n",
       "margin-left: 0.4em;\n",
       "}\n",
       ".hoogle-package {\n",
       "font-weight: bold;\n",
       "font-style: italic;\n",
       "}\n",
       ".hoogle-module {\n",
       "font-weight: bold;\n",
       "}\n",
       ".hoogle-class {\n",
       "font-weight: bold;\n",
       "}\n",
       ".get-type {\n",
       "color: green;\n",
       "font-weight: bold;\n",
       "font-family: monospace;\n",
       "display: block;\n",
       "white-space: pre-wrap;\n",
       "}\n",
       ".show-type {\n",
       "color: green;\n",
       "font-weight: bold;\n",
       "font-family: monospace;\n",
       "margin-left: 1em;\n",
       "}\n",
       ".mono {\n",
       "font-family: monospace;\n",
       "display: block;\n",
       "}\n",
       ".err-msg {\n",
       "color: red;\n",
       "font-style: italic;\n",
       "font-family: monospace;\n",
       "white-space: pre;\n",
       "display: block;\n",
       "}\n",
       "#unshowable {\n",
       "color: red;\n",
       "font-weight: bold;\n",
       "}\n",
       ".err-msg.in.collapse {\n",
       "padding-top: 0.7em;\n",
       "}\n",
       ".highlight-code {\n",
       "white-space: pre;\n",
       "font-family: monospace;\n",
       "}\n",
       ".suggestion-warning { \n",
       "font-weight: bold;\n",
       "color: rgb(200, 130, 0);\n",
       "}\n",
       ".suggestion-error { \n",
       "font-weight: bold;\n",
       "color: red;\n",
       "}\n",
       ".suggestion-name {\n",
       "font-weight: bold;\n",
       "}\n",
       "</style><span class='get-type'>g . f :: Int -> String</span>"
      ],
      "text/plain": [
       "g . f :: Int -> String"
      ]
     },
     "metadata": {},
     "output_type": "display_data"
    },
    {
     "data": {
      "text/plain": [
       "True"
      ]
     },
     "metadata": {},
     "output_type": "display_data"
    }
   ],
   "source": [
    "f:: Int -> Bool\n",
    "f x = if x > 10 then True else False\n",
    "\n",
    "g:: Bool -> String\n",
    "g x = if x then \"It's big number\" else \"To small\"\n",
    "\n",
    "h = head \n",
    "\n",
    "\n",
    ":t (.) --композиция функций \n",
    "\n",
    ":t g . f\n",
    "\n",
    "(h . (g . f) $ 3) == ((h . g) . f $ 3 ) -- композиция функций ассоциативна \n"
   ]
  },
  {
   "cell_type": "code",
   "execution_count": 102,
   "metadata": {
    "collapsed": true
   },
   "outputs": [],
   "source": [
    "-- для каждого объекта категории есть единичный морфизм \n",
    "id:: a -> a\n",
    "id x = x"
   ]
  },
  {
   "cell_type": "code",
   "execution_count": 103,
   "metadata": {},
   "outputs": [
    {
     "data": {
      "text/html": [
       "<style>/* Styles used for the Hoogle display in the pager */\n",
       ".hoogle-doc {\n",
       "display: block;\n",
       "padding-bottom: 1.3em;\n",
       "padding-left: 0.4em;\n",
       "}\n",
       ".hoogle-code {\n",
       "display: block;\n",
       "font-family: monospace;\n",
       "white-space: pre;\n",
       "}\n",
       ".hoogle-text {\n",
       "display: block;\n",
       "}\n",
       ".hoogle-name {\n",
       "color: green;\n",
       "font-weight: bold;\n",
       "}\n",
       ".hoogle-head {\n",
       "font-weight: bold;\n",
       "}\n",
       ".hoogle-sub {\n",
       "display: block;\n",
       "margin-left: 0.4em;\n",
       "}\n",
       ".hoogle-package {\n",
       "font-weight: bold;\n",
       "font-style: italic;\n",
       "}\n",
       ".hoogle-module {\n",
       "font-weight: bold;\n",
       "}\n",
       ".hoogle-class {\n",
       "font-weight: bold;\n",
       "}\n",
       ".get-type {\n",
       "color: green;\n",
       "font-weight: bold;\n",
       "font-family: monospace;\n",
       "display: block;\n",
       "white-space: pre-wrap;\n",
       "}\n",
       ".show-type {\n",
       "color: green;\n",
       "font-weight: bold;\n",
       "font-family: monospace;\n",
       "margin-left: 1em;\n",
       "}\n",
       ".mono {\n",
       "font-family: monospace;\n",
       "display: block;\n",
       "}\n",
       ".err-msg {\n",
       "color: red;\n",
       "font-style: italic;\n",
       "font-family: monospace;\n",
       "white-space: pre;\n",
       "display: block;\n",
       "}\n",
       "#unshowable {\n",
       "color: red;\n",
       "font-weight: bold;\n",
       "}\n",
       ".err-msg.in.collapse {\n",
       "padding-top: 0.7em;\n",
       "}\n",
       ".highlight-code {\n",
       "white-space: pre;\n",
       "font-family: monospace;\n",
       "}\n",
       ".suggestion-warning { \n",
       "font-weight: bold;\n",
       "color: rgb(200, 130, 0);\n",
       "}\n",
       ".suggestion-error { \n",
       "font-weight: bold;\n",
       "color: red;\n",
       "}\n",
       ".suggestion-name {\n",
       "font-weight: bold;\n",
       "}\n",
       "</style><div class=\"suggestion-name\" style=\"clear:both;\">Redundant id</div><div class=\"suggestion-row\" style=\"float: left;\"><div class=\"suggestion-warning\">Found:</div><div class=\"highlight-code\" id=\"haskell\">id . f</div></div><div class=\"suggestion-row\" style=\"float: left;\"><div class=\"suggestion-warning\">Why Not:</div><div class=\"highlight-code\" id=\"haskell\">f</div></div><div class=\"suggestion-name\" style=\"clear:both;\">Redundant id</div><div class=\"suggestion-row\" style=\"float: left;\"><div class=\"suggestion-warning\">Found:</div><div class=\"highlight-code\" id=\"haskell\">f . id</div></div><div class=\"suggestion-row\" style=\"float: left;\"><div class=\"suggestion-warning\">Why Not:</div><div class=\"highlight-code\" id=\"haskell\">f</div></div>"
      ],
      "text/plain": [
       "Line 1: Redundant id\n",
       "Found:\n",
       "id . f\n",
       "Why not:\n",
       "fLine 1: Redundant id\n",
       "Found:\n",
       "f . id\n",
       "Why not:\n",
       "f"
      ]
     },
     "metadata": {},
     "output_type": "display_data"
    },
    {
     "data": {
      "text/plain": [
       "False"
      ]
     },
     "metadata": {},
     "output_type": "display_data"
    },
    {
     "data": {
      "text/plain": [
       "False"
      ]
     },
     "metadata": {},
     "output_type": "display_data"
    }
   ],
   "source": [
    "id . f $ 3 \n",
    "\n",
    "f . id $ 3"
   ]
  },
  {
   "cell_type": "markdown",
   "metadata": {
    "collapsed": true
   },
   "source": [
    "Композиция — суть программирования\n",
    "Мы решаем нетривиальную задачу (если\n",
    "бы она была тривиальной, мы не нуждались бы в помощи компьютера). А как мы решаем задачи? Раскладываем большие задачи на более мелкие. Если мелкие все еще слишком\n",
    "крупные, то их тоже раскладываем, и так далее. Наконец, мы пишем код, который решает\n",
    "все мелкие задачи. И вот тут проявляется суть программирования: мы составляем эти куски\n",
    "кода для создания решений более серьезных задач. Разложение не имело бы смысла, если\n",
    "мы не смогли сложить кусочки вместе.\n",
    "Этот процесс иерархической декомпозиции и рекомпозиции не навязывается нам компьютером. Он отражает ограничения человеческого ума. Наш мозг может иметь дело только с\n",
    "небольшим количеством концепций одновременно.\n",
    "Мы должны структурировать программы не потому, что так они приятны на вид, а потому,\n",
    "что в противном случае наши мозги не могут их обработать. Мы часто называем кусок кода\n",
    "элегантным или красивым, но на самом деле мы имеем ввиду, что его легко понимать нашим ограниченным умом. Элегантный код состоит из кусков именно того, правильного для\n",
    "усвоения с помощью наших умственных сил, размера.\n",
    "Так какие куски правильны для составления программ? Площадь их поверхности, должна\n",
    "быть меньше, чем их объем (я люблю эту аналогию потому, что площадь поверхности геометрического объекта растет пропорционально квадрату ее размера, — медленнее, чем объем,\n",
    "который растет пропорционально кубу ее размера). Площадь поверхности — это информация,\n",
    "которая нужна нам для того, чтобы комбинировать куски. Объем — это информация, которая\n",
    "нужна для того, чтобы их реализовать. Идея заключается в том, что, как только какой-то\n",
    "фрагмент будет реализован, мы можем забыть о деталях его реализации и сосредоточиться на том, как он взаимодействует с другими фрагментами. В объектно-ориентированном\n",
    "программировании, поверхность — это декларация класса или его абстрактный интерфейс.\n",
    "В функциональном программировании — это объявление функции. \n",
    "\n",
    "Теория категорий — крайний случай в том смысле, что она активно мешает нам заглянуть\n",
    "внутрь объектов. Объект в теории категорий является абстрактной туманной сущностью.\n",
    "Все, что вы можете знать о нем — это как он относится к другому объекту — как он\n",
    "компонуется с ними при помощью стрелок."
   ]
  },
  {
   "cell_type": "markdown",
   "metadata": {},
   "source": [
    "##### Категория ли?\n",
    "Категория Hask на первый взгляд похожа на категорию множеств Set. Действительно, о типах можно мыслить как о множествах, а стрелки, это просто функции из множества представителей типа $a$ в множество представителей типа $b$. \n",
    "\n",
    "И так быонои было, за исключением одного неприяного момента. Когда мы думаем о возможных состояниях программы, можно выделить несколько состояний: программа может завершться успешно, программа может сломаться по ходу выполнения, а так же может впасть в бесконечное вычисление.\n",
    " Мы не можем просто запретить незавершающиется функции в Haskell потому, что различить, завершается функция, или нет — знаменитая проблема остановки — неразрешима. Вот почему ученые-компьютерщики\n",
    "придумали гениальную идею, или грязный хак, в зависимости от вашей точки зрения, — расширить каждый тип специальным значением, названным bottom, которое обозначается **_|_** или в Unicode **⊥**. Это \"значение\" соответствует незавершающемуся вычислению. Так функция, объявленная как:\n",
    "f :: Bool -> Bool\n",
    "может вернуть True, False, или _|_; последнее значит, что функция никогда не завершается.\n"
   ]
  },
  {
   "cell_type": "code",
   "execution_count": 104,
   "metadata": {
    "collapsed": true
   },
   "outputs": [],
   "source": [
    "--Так функция, объявленная как:\n",
    "f :: Bool -> Bool\n",
    "f x = undefined"
   ]
  },
  {
   "cell_type": "markdown",
   "metadata": {},
   "source": [
    "Интересно, что, как только вы принимаете bottom в систему типов, удобно рассматривать\n",
    "каждую ошибку времени исполнения как bottom, и даже позволить функции возвращать\n",
    "bottom явно. Последнее, как правило, осуществляется с помощью выражения undefined:\n",
    "\n",
    "Это определение проходит проверку типов потому, что undefined вычисляется как bottom,\n",
    "которое включено во все типы, в том числе и в Bool. Можно даже написать:"
   ]
  },
  {
   "cell_type": "code",
   "execution_count": 105,
   "metadata": {
    "collapsed": true
   },
   "outputs": [],
   "source": [
    "f :: Bool -> Bool\n",
    "f = undefined"
   ]
  },
  {
   "cell_type": "markdown",
   "metadata": {},
   "source": [
    "(без x) потому, что bottom еще и член типа Bool -> Bool.\n",
    "Функции, которые могут возвращать bottom, называются частичными, в отличие от обычных\n",
    "функций, которые возвращают правильные результаты для всех возможных аргументов.\n",
    "Из-за bottom, категория типов и функций Haskell называется Hask, а не Set. С теоретической точки зрения, это источник нескончаемых осложнений. С прагматической точки зрения\n",
    "можно игнорировать незавершающиеся функции (и bottom) и работать с Hask как с полноценным Set."
   ]
  },
  {
   "cell_type": "code",
   "execution_count": 106,
   "metadata": {},
   "outputs": [
    {
     "data": {
      "text/html": [
       "<style>/* Styles used for the Hoogle display in the pager */\n",
       ".hoogle-doc {\n",
       "display: block;\n",
       "padding-bottom: 1.3em;\n",
       "padding-left: 0.4em;\n",
       "}\n",
       ".hoogle-code {\n",
       "display: block;\n",
       "font-family: monospace;\n",
       "white-space: pre;\n",
       "}\n",
       ".hoogle-text {\n",
       "display: block;\n",
       "}\n",
       ".hoogle-name {\n",
       "color: green;\n",
       "font-weight: bold;\n",
       "}\n",
       ".hoogle-head {\n",
       "font-weight: bold;\n",
       "}\n",
       ".hoogle-sub {\n",
       "display: block;\n",
       "margin-left: 0.4em;\n",
       "}\n",
       ".hoogle-package {\n",
       "font-weight: bold;\n",
       "font-style: italic;\n",
       "}\n",
       ".hoogle-module {\n",
       "font-weight: bold;\n",
       "}\n",
       ".hoogle-class {\n",
       "font-weight: bold;\n",
       "}\n",
       ".get-type {\n",
       "color: green;\n",
       "font-weight: bold;\n",
       "font-family: monospace;\n",
       "display: block;\n",
       "white-space: pre-wrap;\n",
       "}\n",
       ".show-type {\n",
       "color: green;\n",
       "font-weight: bold;\n",
       "font-family: monospace;\n",
       "margin-left: 1em;\n",
       "}\n",
       ".mono {\n",
       "font-family: monospace;\n",
       "display: block;\n",
       "}\n",
       ".err-msg {\n",
       "color: red;\n",
       "font-style: italic;\n",
       "font-family: monospace;\n",
       "white-space: pre;\n",
       "display: block;\n",
       "}\n",
       "#unshowable {\n",
       "color: red;\n",
       "font-weight: bold;\n",
       "}\n",
       ".err-msg.in.collapse {\n",
       "padding-top: 0.7em;\n",
       "}\n",
       ".highlight-code {\n",
       "white-space: pre;\n",
       "font-family: monospace;\n",
       "}\n",
       ".suggestion-warning { \n",
       "font-weight: bold;\n",
       "color: rgb(200, 130, 0);\n",
       "}\n",
       ".suggestion-error { \n",
       "font-weight: bold;\n",
       "color: red;\n",
       "}\n",
       ".suggestion-name {\n",
       "font-weight: bold;\n",
       "}\n",
       "</style><span class='get-type'>seq :: forall a b. a -> b -> b</span>"
      ],
      "text/plain": [
       "seq :: forall a b. a -> b -> b"
      ]
     },
     "metadata": {},
     "output_type": "display_data"
    },
    {
     "ename": "",
     "evalue": "",
     "output_type": "error",
     "traceback": [
      "Prelude.undefined\nCallStack (from HasCallStack):\n  error, called at libraries/base/GHC/Err.hs:78:14 in base:GHC.Err\n  undefined, called at <interactive>:1:5 in interactive:Ghci2736"
     ]
    }
   ],
   "source": [
    "--Вот пример некатегорности, связанный с наличием _|_\n",
    "-- ⊥ `seq` b = ⊥\n",
    "-- a `seq` b = b\n",
    " :t seq\n",
    " seq undefined ()  -- = undefined"
   ]
  },
  {
   "cell_type": "code",
   "execution_count": 107,
   "metadata": {},
   "outputs": [
    {
     "data": {
      "text/html": [
       "<style>/* Styles used for the Hoogle display in the pager */\n",
       ".hoogle-doc {\n",
       "display: block;\n",
       "padding-bottom: 1.3em;\n",
       "padding-left: 0.4em;\n",
       "}\n",
       ".hoogle-code {\n",
       "display: block;\n",
       "font-family: monospace;\n",
       "white-space: pre;\n",
       "}\n",
       ".hoogle-text {\n",
       "display: block;\n",
       "}\n",
       ".hoogle-name {\n",
       "color: green;\n",
       "font-weight: bold;\n",
       "}\n",
       ".hoogle-head {\n",
       "font-weight: bold;\n",
       "}\n",
       ".hoogle-sub {\n",
       "display: block;\n",
       "margin-left: 0.4em;\n",
       "}\n",
       ".hoogle-package {\n",
       "font-weight: bold;\n",
       "font-style: italic;\n",
       "}\n",
       ".hoogle-module {\n",
       "font-weight: bold;\n",
       "}\n",
       ".hoogle-class {\n",
       "font-weight: bold;\n",
       "}\n",
       ".get-type {\n",
       "color: green;\n",
       "font-weight: bold;\n",
       "font-family: monospace;\n",
       "display: block;\n",
       "white-space: pre-wrap;\n",
       "}\n",
       ".show-type {\n",
       "color: green;\n",
       "font-weight: bold;\n",
       "font-family: monospace;\n",
       "margin-left: 1em;\n",
       "}\n",
       ".mono {\n",
       "font-family: monospace;\n",
       "display: block;\n",
       "}\n",
       ".err-msg {\n",
       "color: red;\n",
       "font-style: italic;\n",
       "font-family: monospace;\n",
       "white-space: pre;\n",
       "display: block;\n",
       "}\n",
       "#unshowable {\n",
       "color: red;\n",
       "font-weight: bold;\n",
       "}\n",
       ".err-msg.in.collapse {\n",
       "padding-top: 0.7em;\n",
       "}\n",
       ".highlight-code {\n",
       "white-space: pre;\n",
       "font-family: monospace;\n",
       "}\n",
       ".suggestion-warning { \n",
       "font-weight: bold;\n",
       "color: rgb(200, 130, 0);\n",
       "}\n",
       ".suggestion-error { \n",
       "font-weight: bold;\n",
       "color: red;\n",
       "}\n",
       ".suggestion-name {\n",
       "font-weight: bold;\n",
       "}\n",
       "</style><div class=\"suggestion-name\" style=\"clear:both;\">Redundant id</div><div class=\"suggestion-row\" style=\"float: left;\"><div class=\"suggestion-warning\">Found:</div><div class=\"highlight-code\" id=\"haskell\">undefined . id</div></div><div class=\"suggestion-row\" style=\"float: left;\"><div class=\"suggestion-warning\">Why Not:</div><div class=\"highlight-code\" id=\"haskell\">undefined</div></div>"
      ],
      "text/plain": [
       "Line 1: Redundant id\n",
       "Found:\n",
       "undefined . id\n",
       "Why not:\n",
       "undefined"
      ]
     },
     "metadata": {},
     "output_type": "display_data"
    },
    {
     "data": {
      "text/plain": [
       "()"
      ]
     },
     "metadata": {},
     "output_type": "display_data"
    }
   ],
   "source": [
    "seq (undefined . id) ()  \n",
    " -- undefined . id = undefined."
   ]
  },
  {
   "cell_type": "code",
   "execution_count": 108,
   "metadata": {
    "collapsed": true
   },
   "outputs": [],
   "source": [
    " --и так, получается, что нарушается композиция с единичным объектом undefined . id = undefined."
   ]
  },
  {
   "cell_type": "markdown",
   "metadata": {},
   "source": [
    "#### Предельные и копредельные конструкции \n",
    "Так как  категория Hask похожа на категорию Set, мы по аналогии проследим различные категорные конструкции в Hask.\n",
    "\n",
    "- ##### начальный и конечный объект \n",
    "    в категории Set начальным объектом яввляется пустое множесво, \n",
    "    конечным объектом - синглетон.\n",
    "    \n",
    "    \n",
    "    В  Hask это тип, который не наполнен ни одним значением (не населен). Вы можете определить функцию, которая принимает Void, но вы никогда не сможете ее вызвать. Чтобы ее вызвать, вам придется обеспечить значение типа Void, а его там просто нет. Что касается того, что эта функция может вернуть — не существует никаких ограничений. Она может возвращать любой тип (хотя этого никогда не случится, потому что она не может быть вызвана). Другими словами, это функция, которая полиморфна по возвращаемому типу."
   ]
  },
  {
   "cell_type": "code",
   "execution_count": 109,
   "metadata": {
    "collapsed": true
   },
   "outputs": [],
   "source": [
    "{-# LANGUAGE EmptyDataDecls, EmptyCase #-}\n",
    "\n",
    "data Void\n",
    "\n",
    "absurd :: Void -> a\n",
    "absurd a = case a of {}"
   ]
  },
  {
   "cell_type": "markdown",
   "metadata": {},
   "source": [
    "    Tип, соответствующий одноэлементному множествуто, имеет только одно возможное значение. Это значение просто \"есть\". В Haskell, есть символ этого значения: пустая пара скобок (). Из-за любви Хаскеля к лаконичности, тот же символ () используется и для типа, и для конструктора, и для единственного значения, соответствующего одноэлементному множеству. "
   ]
  },
  {
   "cell_type": "code",
   "execution_count": 110,
   "metadata": {},
   "outputs": [
    {
     "data": {
      "text/html": [
       "<style>/* Styles used for the Hoogle display in the pager */\n",
       ".hoogle-doc {\n",
       "display: block;\n",
       "padding-bottom: 1.3em;\n",
       "padding-left: 0.4em;\n",
       "}\n",
       ".hoogle-code {\n",
       "display: block;\n",
       "font-family: monospace;\n",
       "white-space: pre;\n",
       "}\n",
       ".hoogle-text {\n",
       "display: block;\n",
       "}\n",
       ".hoogle-name {\n",
       "color: green;\n",
       "font-weight: bold;\n",
       "}\n",
       ".hoogle-head {\n",
       "font-weight: bold;\n",
       "}\n",
       ".hoogle-sub {\n",
       "display: block;\n",
       "margin-left: 0.4em;\n",
       "}\n",
       ".hoogle-package {\n",
       "font-weight: bold;\n",
       "font-style: italic;\n",
       "}\n",
       ".hoogle-module {\n",
       "font-weight: bold;\n",
       "}\n",
       ".hoogle-class {\n",
       "font-weight: bold;\n",
       "}\n",
       ".get-type {\n",
       "color: green;\n",
       "font-weight: bold;\n",
       "font-family: monospace;\n",
       "display: block;\n",
       "white-space: pre-wrap;\n",
       "}\n",
       ".show-type {\n",
       "color: green;\n",
       "font-weight: bold;\n",
       "font-family: monospace;\n",
       "margin-left: 1em;\n",
       "}\n",
       ".mono {\n",
       "font-family: monospace;\n",
       "display: block;\n",
       "}\n",
       ".err-msg {\n",
       "color: red;\n",
       "font-style: italic;\n",
       "font-family: monospace;\n",
       "white-space: pre;\n",
       "display: block;\n",
       "}\n",
       "#unshowable {\n",
       "color: red;\n",
       "font-weight: bold;\n",
       "}\n",
       ".err-msg.in.collapse {\n",
       "padding-top: 0.7em;\n",
       "}\n",
       ".highlight-code {\n",
       "white-space: pre;\n",
       "font-family: monospace;\n",
       "}\n",
       ".suggestion-warning { \n",
       "font-weight: bold;\n",
       "color: rgb(200, 130, 0);\n",
       "}\n",
       ".suggestion-error { \n",
       "font-weight: bold;\n",
       "color: red;\n",
       "}\n",
       ".suggestion-name {\n",
       "font-weight: bold;\n",
       "}\n",
       "</style><span class='get-type'>() :: ()</span>"
      ],
      "text/plain": [
       "() :: ()"
      ]
     },
     "metadata": {},
     "output_type": "display_data"
    }
   ],
   "source": [
    "-- data () = ()\n",
    ":t ()\n",
    "\n",
    "unit :: a -> ()\n",
    "unit _ = ()"
   ]
  },
  {
   "cell_type": "markdown",
   "metadata": {},
   "source": [
    "- ##### произведение и копроизведеие\n",
    "     в категории Set произвежение-это декартово произведение множеств с соответствующими проекциями, а копроизведение, это дизъюнктное объединение с вложениями.\n",
    "     \n",
    "     \n",
    "    С декартовым произведением связаны две функции (проекции), действующие из множествапроизведения в соответствующее множество-множитель. В Haskell эти функции называются fst и snd, которые выбирают первый и второй элементы пары соответственно:\n"
   ]
  },
  {
   "cell_type": "code",
   "execution_count": 111,
   "metadata": {},
   "outputs": [
    {
     "data": {
      "text/html": [
       "<style>/* Styles used for the Hoogle display in the pager */\n",
       ".hoogle-doc {\n",
       "display: block;\n",
       "padding-bottom: 1.3em;\n",
       "padding-left: 0.4em;\n",
       "}\n",
       ".hoogle-code {\n",
       "display: block;\n",
       "font-family: monospace;\n",
       "white-space: pre;\n",
       "}\n",
       ".hoogle-text {\n",
       "display: block;\n",
       "}\n",
       ".hoogle-name {\n",
       "color: green;\n",
       "font-weight: bold;\n",
       "}\n",
       ".hoogle-head {\n",
       "font-weight: bold;\n",
       "}\n",
       ".hoogle-sub {\n",
       "display: block;\n",
       "margin-left: 0.4em;\n",
       "}\n",
       ".hoogle-package {\n",
       "font-weight: bold;\n",
       "font-style: italic;\n",
       "}\n",
       ".hoogle-module {\n",
       "font-weight: bold;\n",
       "}\n",
       ".hoogle-class {\n",
       "font-weight: bold;\n",
       "}\n",
       ".get-type {\n",
       "color: green;\n",
       "font-weight: bold;\n",
       "font-family: monospace;\n",
       "display: block;\n",
       "white-space: pre-wrap;\n",
       "}\n",
       ".show-type {\n",
       "color: green;\n",
       "font-weight: bold;\n",
       "font-family: monospace;\n",
       "margin-left: 1em;\n",
       "}\n",
       ".mono {\n",
       "font-family: monospace;\n",
       "display: block;\n",
       "}\n",
       ".err-msg {\n",
       "color: red;\n",
       "font-style: italic;\n",
       "font-family: monospace;\n",
       "white-space: pre;\n",
       "display: block;\n",
       "}\n",
       "#unshowable {\n",
       "color: red;\n",
       "font-weight: bold;\n",
       "}\n",
       ".err-msg.in.collapse {\n",
       "padding-top: 0.7em;\n",
       "}\n",
       ".highlight-code {\n",
       "white-space: pre;\n",
       "font-family: monospace;\n",
       "}\n",
       ".suggestion-warning { \n",
       "font-weight: bold;\n",
       "color: rgb(200, 130, 0);\n",
       "}\n",
       ".suggestion-error { \n",
       "font-weight: bold;\n",
       "color: red;\n",
       "}\n",
       ".suggestion-name {\n",
       "font-weight: bold;\n",
       "}\n",
       "</style><span class='get-type'>(,) :: forall a b. a -> b -> (a, b)</span>"
      ],
      "text/plain": [
       "(,) :: forall a b. a -> b -> (a, b)"
      ]
     },
     "metadata": {},
     "output_type": "display_data"
    }
   ],
   "source": [
    "-- data (a,b) = (a,b)\n",
    ":t (,)\n",
    "\n",
    "-- проекции \n",
    "fst :: (a,b) -> a\n",
    "fst (x,_) = x\n",
    "\n",
    "snd :: (a,b) -> b\n",
    "snd (_,y) = y\n",
    "\n",
    "--универсальная стрелка\n",
    "factorizer :: (c -> a) -> (c -> b) -> (c -> (a, b))\n",
    "factorizer p q = \\x -> (p x, q x)"
   ]
  },
  {
   "cell_type": "markdown",
   "metadata": {},
   "source": [
    "    В отличие от канонической реализации произведения, встроенной в синтаксис Haskell как примитивная пара, каноническая реализация копроизведения является не специальной языковой конструкцией, а рядовым типом данных Either из стандартной библиотеки:"
   ]
  },
  {
   "cell_type": "code",
   "execution_count": 112,
   "metadata": {},
   "outputs": [
    {
     "data": {
      "text/html": [
       "<style>/* Styles used for the Hoogle display in the pager */\n",
       ".hoogle-doc {\n",
       "display: block;\n",
       "padding-bottom: 1.3em;\n",
       "padding-left: 0.4em;\n",
       "}\n",
       ".hoogle-code {\n",
       "display: block;\n",
       "font-family: monospace;\n",
       "white-space: pre;\n",
       "}\n",
       ".hoogle-text {\n",
       "display: block;\n",
       "}\n",
       ".hoogle-name {\n",
       "color: green;\n",
       "font-weight: bold;\n",
       "}\n",
       ".hoogle-head {\n",
       "font-weight: bold;\n",
       "}\n",
       ".hoogle-sub {\n",
       "display: block;\n",
       "margin-left: 0.4em;\n",
       "}\n",
       ".hoogle-package {\n",
       "font-weight: bold;\n",
       "font-style: italic;\n",
       "}\n",
       ".hoogle-module {\n",
       "font-weight: bold;\n",
       "}\n",
       ".hoogle-class {\n",
       "font-weight: bold;\n",
       "}\n",
       ".get-type {\n",
       "color: green;\n",
       "font-weight: bold;\n",
       "font-family: monospace;\n",
       "display: block;\n",
       "white-space: pre-wrap;\n",
       "}\n",
       ".show-type {\n",
       "color: green;\n",
       "font-weight: bold;\n",
       "font-family: monospace;\n",
       "margin-left: 1em;\n",
       "}\n",
       ".mono {\n",
       "font-family: monospace;\n",
       "display: block;\n",
       "}\n",
       ".err-msg {\n",
       "color: red;\n",
       "font-style: italic;\n",
       "font-family: monospace;\n",
       "white-space: pre;\n",
       "display: block;\n",
       "}\n",
       "#unshowable {\n",
       "color: red;\n",
       "font-weight: bold;\n",
       "}\n",
       ".err-msg.in.collapse {\n",
       "padding-top: 0.7em;\n",
       "}\n",
       ".highlight-code {\n",
       "white-space: pre;\n",
       "font-family: monospace;\n",
       "}\n",
       ".suggestion-warning { \n",
       "font-weight: bold;\n",
       "color: rgb(200, 130, 0);\n",
       "}\n",
       ".suggestion-error { \n",
       "font-weight: bold;\n",
       "color: red;\n",
       "}\n",
       ".suggestion-name {\n",
       "font-weight: bold;\n",
       "}\n",
       "</style><span class='get-type'>Left :: forall a b. a -> Either a b</span>"
      ],
      "text/plain": [
       "Left :: forall a b. a -> Either a b"
      ]
     },
     "metadata": {},
     "output_type": "display_data"
    },
    {
     "data": {
      "text/html": [
       "<style>/* Styles used for the Hoogle display in the pager */\n",
       ".hoogle-doc {\n",
       "display: block;\n",
       "padding-bottom: 1.3em;\n",
       "padding-left: 0.4em;\n",
       "}\n",
       ".hoogle-code {\n",
       "display: block;\n",
       "font-family: monospace;\n",
       "white-space: pre;\n",
       "}\n",
       ".hoogle-text {\n",
       "display: block;\n",
       "}\n",
       ".hoogle-name {\n",
       "color: green;\n",
       "font-weight: bold;\n",
       "}\n",
       ".hoogle-head {\n",
       "font-weight: bold;\n",
       "}\n",
       ".hoogle-sub {\n",
       "display: block;\n",
       "margin-left: 0.4em;\n",
       "}\n",
       ".hoogle-package {\n",
       "font-weight: bold;\n",
       "font-style: italic;\n",
       "}\n",
       ".hoogle-module {\n",
       "font-weight: bold;\n",
       "}\n",
       ".hoogle-class {\n",
       "font-weight: bold;\n",
       "}\n",
       ".get-type {\n",
       "color: green;\n",
       "font-weight: bold;\n",
       "font-family: monospace;\n",
       "display: block;\n",
       "white-space: pre-wrap;\n",
       "}\n",
       ".show-type {\n",
       "color: green;\n",
       "font-weight: bold;\n",
       "font-family: monospace;\n",
       "margin-left: 1em;\n",
       "}\n",
       ".mono {\n",
       "font-family: monospace;\n",
       "display: block;\n",
       "}\n",
       ".err-msg {\n",
       "color: red;\n",
       "font-style: italic;\n",
       "font-family: monospace;\n",
       "white-space: pre;\n",
       "display: block;\n",
       "}\n",
       "#unshowable {\n",
       "color: red;\n",
       "font-weight: bold;\n",
       "}\n",
       ".err-msg.in.collapse {\n",
       "padding-top: 0.7em;\n",
       "}\n",
       ".highlight-code {\n",
       "white-space: pre;\n",
       "font-family: monospace;\n",
       "}\n",
       ".suggestion-warning { \n",
       "font-weight: bold;\n",
       "color: rgb(200, 130, 0);\n",
       "}\n",
       ".suggestion-error { \n",
       "font-weight: bold;\n",
       "color: red;\n",
       "}\n",
       ".suggestion-name {\n",
       "font-weight: bold;\n",
       "}\n",
       "</style><span class='get-type'>Right :: forall b a. b -> Either a b</span>"
      ],
      "text/plain": [
       "Right :: forall b a. b -> Either a b"
      ]
     },
     "metadata": {},
     "output_type": "display_data"
    }
   ],
   "source": [
    "data Either a b = Left a | Right b\n",
    "\n",
    "-- вложения\n",
    ":t Left\n",
    "\n",
    ":t Right\n",
    "\n",
    "--универальная стрелка\n",
    "factorizer :: (a -> c) -> (b -> c)-> Either a b -> c\n",
    "factorizer i j (Left a) = i a\n",
    "factorizer i j (Right b) = j b"
   ]
  },
  {
   "cell_type": "markdown",
   "metadata": {},
   "source": [
    "\n",
    "- ##### Обратные образы(pull back) и амальгамы(push forward)\n",
    "     в категории Set обратные образы, или расслоенные произедения, - это подмножество декартового произведений областей определения функций, по которым строится обратный образ. Так же амальгамы подмножесва копроизведений образов функций, по которым они строятся.\n",
    "\n",
    "В теории категорий конструкции определяются с точностью до изоморфизма. Изоморфизм — это обратимый морфизм или, другими словами, пара морфизмов, обратных друг к другу.\n",
    "Понятие обратимости выражается в терминах композиции и единичного морфизма: морфизм\n",
    "g является обратным к f, если их композиция является тождественным морфизмом. На самом\n",
    "деле это не одно, а два условия, поскольку есть два способа композиции пары морфизмов:\n",
    "$$f ◦ g = id$$\n",
    "\n",
    "$$g ◦ f = id$$"
   ]
  },
  {
   "cell_type": "markdown",
   "metadata": {},
   "source": [
    " #### Арифмитические аналогия для типов. Полукольцо "
   ]
  },
  {
   "cell_type": "markdown",
   "metadata": {
    "collapsed": true
   },
   "source": [
    "- #### Произведение и сложение типов\n",
    "    - в качестве кандидата на операцию произведения типов рассмотрим категорную конструкцию произведения: $a\\cdot b = (a,b)$\n",
    "        - $a\\cdot b = b \\cdot a$ - умножение коммутативно ( с точностью до изоморфизма) , действительно, рассмотрим такую функцию:\n",
    "        - $((a\\cdot b) \\cdot c) = (a\\cdot (b \\cdot c)) $ а так же ассоциативно\n",
    "        - и имеет еденицу - тип () : $(a,()) = ((),a )= a $"
   ]
  },
  {
   "cell_type": "code",
   "execution_count": 113,
   "metadata": {},
   "outputs": [
    {
     "data": {
      "text/plain": [
       "True"
      ]
     },
     "metadata": {},
     "output_type": "display_data"
    },
    {
     "data": {
      "text/plain": [
       "True"
      ]
     },
     "metadata": {},
     "output_type": "display_data"
    },
    {
     "data": {
      "text/plain": [
       "True"
      ]
     },
     "metadata": {},
     "output_type": "display_data"
    }
   ],
   "source": [
    "-- композиция с собой даёт единичный морфизм\n",
    "swap :: (a, b) -> (b, a)\n",
    "swap (x, y) = (y, x)\n",
    "\n",
    "(swap . swap $ (1,2)) == (1,2)\n",
    "\n",
    "-- Изоморфизм\n",
    "i :: ((a, b), c) -> (a, (b, c))\n",
    "i ((x, y), z) = (x, (y, z))\n",
    "-- А вот обратная к ней:\n",
    "j :: (a, (b, c)) -> ((a, b), c)\n",
    "j (x, (y, z)) = ((x, y), z)\n",
    "\n",
    "(j . i $ ((1,2),3)) == ((1,2),3)\n",
    "\n",
    "-- Произведение с единицей\n",
    "-- (a, ())\n",
    "r :: (a, ()) -> a\n",
    "r (x, ()) = x\n",
    "\n",
    "k :: a -> (a, ())\n",
    "k x = (x, ())\n",
    "\n",
    "(r . k $ 1) == 1 "
   ]
  },
  {
   "cell_type": "code",
   "execution_count": 114,
   "metadata": {
    "collapsed": true
   },
   "outputs": [],
   "source": [
    "-- ипару так же можно записать изоморфным образом так\n",
    "data Pair a b = Pair a b\n",
    "\n",
    "i :: Pair a b -> (a,b)\n",
    "i (Pair x y) = (x,y)\n",
    "\n",
    "j :: (a,b) -> Pair a b\n",
    "j (x,y) = Pair x y"
   ]
  },
  {
   "cell_type": "markdown",
   "metadata": {},
   "source": [
    "- #### Произведение и сложение типов\n",
    "    - в качестве кандидата на операцию сложения типов рассмотрим категорную конструкцию копроизведения: $a + b = Either~a~b$\n",
    "        - $a + b = b + a$ - сложение коммутативно ( с точностью до изоморфизма) , действительно, рассмотрим такую функцию:\n",
    "        - $((a + b) + c) = (a + (b + c)) $ а так же ассоциативно\n",
    "        - и имеет ноль - тип Void : $Either~a~Void = Either~Void~a = a$"
   ]
  },
  {
   "cell_type": "code",
   "execution_count": 115,
   "metadata": {
    "collapsed": true
   },
   "outputs": [],
   "source": [
    "-- коммутативность\n",
    "h :: Either a b -> Either b a\n",
    "h (Left x) = Right x\n",
    "h (Right y) = Left y\n",
    "\n",
    "-- ассоциативность \n",
    "i :: Either (Either a b) c -> Either a (Either b c)\n",
    "i (Left (Left x))  = Left x\n",
    "i (Left (Right y)) = Right (Left y)\n",
    "i (Right z)        = Right (Right z)\n",
    "\n",
    "j :: Either a (Either b c) -> Either (Either a b) c\n",
    "j (Left x)          = Left (Left x) \n",
    "j (Right (Left y))  = Left (Right y)\n",
    "j (Right (Right z)) = Right z\n",
    "\n",
    "-- сложение с  0 \n",
    "-- Either a Void\n",
    "k ::  Either a Void -> a\n",
    "k (Left x) = x\n",
    "\n",
    "r :: a -> Either a Void\n",
    "r x = Left x"
   ]
  },
  {
   "cell_type": "markdown",
   "metadata": {},
   "source": [
    "Каждая из этих операций образует структуру коммутативного моноида на типах. Подведем итоги вышеизложенного. Мы рассмотрели две коммутативные моноидальные структуры, лежащие в основе системы типов. Это сумма типов с нейтральным элементом Void и произведение типов с нейтральным элементом (). Их удобно представлять себе как сложение и умножение. В таком случае Void соответствует нулю, а () — единице.\n",
    "Категория Hask с каждой из этих операций может быть представлена как моноидальная категория. "
   ]
  },
  {
   "cell_type": "markdown",
   "metadata": {},
   "source": [
    "- #### Арифмитические аналогия для типов. Полукольцо \n",
    "    - Cвязь двух моноидов - дистрибутивность \n",
    "    \n",
    "      Посмотрим, как далеко простирается эта аналогия. Например, верно ли, что умножение на ноль дает ноль? Другими словами, изоморфно ли любое произведение на $Void$ типу $Void$? Существуют ли пары, состоящие из, скажем, $Int$ и $Void$? Для создания пары нужны оба значения. Значение типа $Int$ — это не проблема, а вот с $Void$ есть загвоздка: этот тип не населен (не существует ни одного значения этого типа). Таким образом, для любого типа $a$ тип $(a, Void)$ также не населен и, следовательно, эквивалентен $Void$. Другими словами, $ a \\cdot 0 = 0$.\n",
    "      \n",
    "      Сложение и умножение чисел связаны дистрибутивным законом: $$a · (b + c) = a · b + a · c$$ Выполняется ли он для суммы и произведения типов? Да, с точностью до изоморфизма. Левая часть тождества соответствует типу $$(a, Either~ b ~c)$$ а правая — $$Either (a, b) (a, c)$$"
   ]
  },
  {
   "cell_type": "code",
   "execution_count": 116,
   "metadata": {
    "collapsed": true
   },
   "outputs": [],
   "source": [
    "-- построим изоморфизм (a, Either b c) = Either (a, b) (a, c)\n",
    "\n",
    "prodToSum :: (a, Either b c) -> Either (a, b) (a, c)\n",
    "prodToSum (x, e) = case e of\n",
    "                            Left y -> Left (x, y)\n",
    "                            Right z -> Right (x, z)\n",
    "                            \n",
    "sumToProd :: Either (a, b) (a, c) -> (a, Either b c)\n",
    "sumToProd e = case e of\n",
    "                        Left (x, y) -> (x, Left y)\n",
    "                        Right (x, z) -> (x, Right z)"
   ]
  },
  {
   "cell_type": "markdown",
   "metadata": {},
   "source": [
    "- #### Арифмитические аналогия для типов. Полукольцо  \n",
    "    - Полукольцо \n",
    "    \n",
    "    Два моноида, связанные дистрибутивным законом, в математике называются полукольцом с единицей. Это не полное кольцо, поскольку мы не в силах определить вычитание типов. Множество утверждений, верных для образующих полукольцо натуральных чисел, можно перенести на типы. Вот несколько примеров:"
   ]
  },
  {
   "cell_type": "code",
   "execution_count": 117,
   "metadata": {
    "collapsed": true
   },
   "outputs": [],
   "source": [
    "-- 0                                  Void\n",
    "-- 1                                  ()\n",
    "-- a + b                              Either a b = Left a | Right b\n",
    "-- a · b                              (a, b) или Pair a b = Pair a b\n",
    "-- 2 = 1 + 1                          data Bool = True | False\n",
    "-- 1 + a                              data Maybe = Nothing | Just a\n",
    "-- x = 1 + a * x                      List a = Nil | Cons a (List a)\n",
    "-- 1 + a + a*a + a*a*a + a*a*a*a + .. "
   ]
  },
  {
   "cell_type": "markdown",
   "metadata": {},
   "source": [
    " Тип списка представляет особый интерес, поскольку он определен как решение уравнения. Это уравнение нельзя решить традиционными алгебраическими методами, поскольку типы нельзя вычитать или делить В конце концов мы придем к бесконечной сумме произведений (кортежей), которую можно трактовать так: список либо пуст — 1; либо состоит из одного элемента — a; либо состоит из пары — a*a; либо из тройки — a*a*a, и т.д. Полученное формально определение полностью отвечает интуитивному представлению о списке как о строке, где вместо букв — значения типа a."
   ]
  },
  {
   "cell_type": "markdown",
   "metadata": {},
   "source": [
    "- #### Алгебраические типы данных \n",
    "    Решение уравнений с символьными переменными — это алгебра! Поэтому такие типы данных и называются алгебраическими (АТД).\n",
    "    По отдельности произведения и суммы типов позволяют определить  множество полезных структур данных, но настоящая мощь проистекает из их комбинации."
   ]
  },
  {
   "cell_type": "code",
   "execution_count": null,
   "metadata": {
    "collapsed": true
   },
   "outputs": [],
   "source": []
  }
 ],
 "metadata": {
  "kernelspec": {
   "display_name": "Haskell",
   "language": "haskell",
   "name": "haskell"
  },
  "language_info": {
   "codemirror_mode": "ihaskell",
   "file_extension": ".hs",
   "name": "haskell",
   "pygments_lexer": "Haskell",
   "version": "8.6.5"
  }
 },
 "nbformat": 4,
 "nbformat_minor": 2
}
