{
 "cells": [
  {
   "cell_type": "markdown",
   "metadata": {},
   "source": [
    "## Лекция 7\n",
    "\n",
    "### Категорные конструкции в Haskell, ч.2\n",
    "\n",
    "- #### Функторы  \n",
    "    - Определение\n",
    "    - Примеры\n",
    "- #### Бифункторы \n",
    "    -  Определение\n",
    "    -  Примеры\n",
    "- #### Профункторы\n",
    "    -  Определение\n",
    "    -  Примеры\n",
    "- #### Функциональные типы\n",
    "\n",
    "- #### Каррирование и экспоненциалы\n",
    "\n",
    "- #### Естественные преобразования "
   ]
  },
  {
   "cell_type": "code",
   "execution_count": null,
   "metadata": {
    "collapsed": true
   },
   "outputs": [],
   "source": []
  }
 ],
 "metadata": {
  "kernelspec": {
   "display_name": "Haskell",
   "language": "haskell",
   "name": "haskell"
  },
  "language_info": {
   "codemirror_mode": "ihaskell",
   "file_extension": ".hs",
   "name": "haskell",
   "pygments_lexer": "Haskell",
   "version": "8.6.5"
  }
 },
 "nbformat": 4,
 "nbformat_minor": 2
}
